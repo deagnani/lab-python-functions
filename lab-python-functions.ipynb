{
 "cells": [
  {
   "cell_type": "markdown",
   "id": "25d7736c-ba17-4aff-b6bb-66eba20fbf4e",
   "metadata": {},
   "source": [
    "# Lab | Functions"
   ]
  },
  {
   "cell_type": "markdown",
   "id": "0c581062-8967-4d93-b06e-62833222f930",
   "metadata": {
    "tags": []
   },
   "source": [
    "## Exercise: Managing Customer Orders with Functions\n",
    "\n",
    "In the previous exercise, you improved the code for managing customer orders by using loops and flow control. Now, let's take it a step further and refactor the code by introducing functions.\n",
    "\n",
    "Follow the steps below to complete the exercise:\n",
    "\n",
    "1. Define a function named `initialize_inventory` that takes `products` as a parameter. Inside the function, implement the code for initializing the inventory dictionary using a loop and user input.\n",
    "\n",
    "2. Define a function named `get_customer_orders` that takes no parameters. Inside the function, implement the code for prompting the user to enter the product names using a loop. The function should return the `customer_orders` set.\n",
    "\n",
    "3. Define a function named `update_inventory` that takes `customer_orders` and `inventory` as parameters. Inside the function, implement the code for updating the inventory dictionary based on the customer orders.\n",
    "\n",
    "4. Define a function named `calculate_order_statistics` that takes `customer_orders` and `products` as parameters. Inside the function, implement the code for calculating the order statistics (total products ordered, and percentage of unique products ordered). The function should return these values.\n",
    "\n",
    "5. Define a function named `print_order_statistics` that takes `order_statistics` as a parameter. Inside the function, implement the code for printing the order statistics.\n",
    "\n",
    "6. Define a function named `print_updated_inventory` that takes `inventory` as a parameter. Inside the function, implement the code for printing the updated inventory.\n",
    "\n",
    "7. Call the functions in the appropriate sequence to execute the program and manage customer orders.\n",
    "\n",
    "Hints for functions:\n",
    "\n",
    "- Consider the input parameters required for each function and their return values.\n",
    "- Utilize function parameters and return values to transfer data between functions.\n",
    "- Test your functions individually to ensure they work correctly.\n",
    "\n",
    "\n"
   ]
  },
  {
   "cell_type": "code",
   "execution_count": 2,
   "id": "a044c8ac-f5e2-4dc6-9a8b-4268548eac14",
   "metadata": {},
   "outputs": [],
   "source": [
    "def initialize_inventory(products):\n",
    "    inventory = {}\n",
    "    for product in products:\n",
    "        quantity = int(input(f\"Enter the quantity of {product}: \"))\n",
    "        inventory[product] = quantity\n",
    "    return inventory"
   ]
  },
  {
   "cell_type": "code",
   "execution_count": 3,
   "id": "38e5e856-a8e9-4b8a-a37c-3dc82a71c708",
   "metadata": {},
   "outputs": [],
   "source": [
    "def get_customer_order():\n",
    "    customer_order = set()\n",
    "    while True:\n",
    "        product = input(\"Enter the name of the product that a customer wants to order: \").lower()\n",
    "        customer_order.add(product)\n",
    "        choice = input(\"Do you want to add another product? (yes/no): \").lower()\n",
    "        if choice != 'yes':\n",
    "            break\n",
    "    return customer_order"
   ]
  },
  {
   "cell_type": "code",
   "execution_count": 4,
   "id": "e839a41f-1684-4841-9678-1223c26e0e77",
   "metadata": {},
   "outputs": [],
   "source": [
    "def update_inventory(customer_order, inventory):\n",
    "    for product in customer_order:\n",
    "        if product in inventory:\n",
    "            quantity_ordered = int(input(\"How many pieces do you want ? : \"))\n",
    "            inventory[product] -= quantity_ordered\n",
    "        else:\n",
    "            print(f\"Warning: {product} is not available in the inventory.\")"
   ]
  },
  {
   "cell_type": "code",
   "execution_count": 5,
   "id": "a0ab2134-187b-4c7e-b520-cd5e88f9baf1",
   "metadata": {},
   "outputs": [],
   "source": [
    "def calculate_order_statistics(customer_orders, products):\n",
    "    total_products_ordered = len(customer_orders)\n",
    "    unique_products_ordered = len(set(customer_orders))\n",
    "    percentage_unique_products = (unique_products_ordered / len(products)) * 100\n",
    "    return total_products_ordered, percentage_unique_products"
   ]
  },
  {
   "cell_type": "code",
   "execution_count": 6,
   "id": "98d0111a-00bf-4ef1-8050-dd9d8952f042",
   "metadata": {},
   "outputs": [],
   "source": [
    "def print_order_statistics(order_statistics):\n",
    "    total_ordered, percentage_unique = order_statistics"
   ]
  },
  {
   "cell_type": "code",
   "execution_count": 7,
   "id": "743673d9-45ed-44a2-a160-78dbdada9c1b",
   "metadata": {},
   "outputs": [],
   "source": [
    "def print_updated_inventory(inventory):\n",
    "    print(\"\\nUpdated Inventory:\")\n",
    "    for product, quantity in inventory.items():\n",
    "        print(f\"{product}: {quantity}\")"
   ]
  },
  {
   "cell_type": "code",
   "execution_count": null,
   "id": "e033a36d-2f80-4d5d-92e5-5178669cfe7f",
   "metadata": {},
   "outputs": [],
   "source": [
    "products = [\"t-shirt\", \"mug\", \"hat\", \"book\", \"keychain\"]\n",
    "inventory = initialize_inventory(products)\n",
    "print(inventory)\n",
    "customer_order = get_customer_order()\n",
    "update_inventory( customer_order,inventory)\n",
    "print(inventory)\n",
    "print_order_statistics(calculate_order_statistics(customer_order, products))\n",
    "#total_ordered,percentage_unique = calculate_order_statistics(customer_order,products)\n",
    "print_updated_inventory(inventory)\n",
    "print (f\"Total products ordered : {total_ordered}\")\n",
    "print(f\"Percentage of unique products ordered: {percentage_unique}%\")"
   ]
  },
  {
   "cell_type": "code",
   "execution_count": null,
   "id": "9d9addef-642e-43a2-9b62-9e2b3110b601",
   "metadata": {},
   "outputs": [],
   "source": []
  }
 ],
 "metadata": {
  "kernelspec": {
   "display_name": "Python 3 (ipykernel)",
   "language": "python",
   "name": "python3"
  },
  "language_info": {
   "codemirror_mode": {
    "name": "ipython",
    "version": 3
   },
   "file_extension": ".py",
   "mimetype": "text/x-python",
   "name": "python",
   "nbconvert_exporter": "python",
   "pygments_lexer": "ipython3",
   "version": "3.11.5"
  }
 },
 "nbformat": 4,
 "nbformat_minor": 5
}
